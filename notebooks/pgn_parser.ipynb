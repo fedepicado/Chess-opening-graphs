{
 "cells": [
  {
   "cell_type": "code",
   "execution_count": 1,
   "metadata": {},
   "outputs": [],
   "source": [
    "import chess.pgn\n",
    "import os\n",
    "import pandas as pd\n",
    "from tqdm import tqdm\n",
    "import glob\n",
    "import re"
   ]
  },
  {
   "cell_type": "markdown",
   "metadata": {},
   "source": [
    "# Importacion de datos\n",
    "\n",
    "Las partidas se separan en archivos .pgn conteniendo todas las partidas que se jugaron en un mes determinado.\n",
    "\n",
    "Lo primero que hago es crear una clase que me permita leer cada partida del .pgn y almacenar la informacion en dfs para que este mas disponible."
   ]
  },
  {
   "cell_type": "code",
   "execution_count": null,
   "metadata": {},
   "outputs": [],
   "source": [
    "class Match:\n",
    "    def __init__(self, game):\n",
    "        self.game = game\n",
    "        headers = game.headers\n",
    "        self.game_id = headers.get('Site', '').split('/')[-1] if 'Site' in headers else None\n",
    "        self.white_elo = self._parse_elo(headers.get('WhiteElo'))\n",
    "        self.black_elo = self._parse_elo(headers.get('BlackElo'))\n",
    "        self.white_player = headers.get('White', 'Unknown')\n",
    "        self.black_player = headers.get('Black', 'Unknown')\n",
    "        self.opening = headers.get('Opening', 'Unknown')\n",
    "        self.eco = headers.get('ECO', 'Unknown')\n",
    "        self.time_control = headers.get('TimeControl', 'Unknown')\n",
    "        self.opening_sequence = self.extract_opening_sequence(20)\n",
    "        self.tipo_de_partida = self.assign_tipo_de_partida()\n",
    "\n",
    "    def _parse_elo(self, elo):\n",
    "        try:\n",
    "            return int(elo)\n",
    "        except (TypeError, ValueError):\n",
    "            return None\n",
    "\n",
    "    def assign_tipo_de_partida(self):\n",
    "        \"\"\"Solo me interesa la partida blitz, las otras las ignoro\"\"\"\n",
    "        blitz_controls = {'300+0', '300', '5+0', '5'}\n",
    "        if self.time_control in blitz_controls:\n",
    "            return 'Blitz'\n",
    "        else:\n",
    "            return None\n",
    "\n",
    "    def get_dataframe(self, file_tag=None):\n",
    "        \"\"\"Retorna un DataFrame de una fila con los metadatos de la partida\"\"\"\n",
    "        data = {\n",
    "            'game_id': self.game_id,\n",
    "            'white_player': self.white_player,\n",
    "            'black_player': self.black_player,\n",
    "            'white_elo': self.white_elo,\n",
    "            'black_elo': self.black_elo,\n",
    "            'elo_group': assign_to_elo_group(self.white_elo, self.black_elo),\n",
    "            'opening': self.opening,\n",
    "            'eco': self.eco,\n",
    "            'time_control': self.time_control,\n",
    "            'tipo_de_partida': self.tipo_de_partida,\n",
    "            'opening_sequence': self.opening_sequence\n",
    "        }\n",
    "        if file_tag is not None:\n",
    "            data['file_tag'] = file_tag\n",
    "        return pd.DataFrame([data])\n",
    "\n",
    "    def extract_opening_sequence(self, num_halfmoves=20):\n",
    "        board = chess.Board()\n",
    "        moves = []\n",
    "        for idx, move in enumerate(self.game.mainline_moves()):\n",
    "            if idx >= num_halfmoves:\n",
    "                break\n",
    "            try:\n",
    "                moves.append(board.san(move))\n",
    "            except Exception:\n",
    "                # Si hay un error en la conversión SAN, se ignora el movimiento\n",
    "                break\n",
    "            board.push(move)\n",
    "        return ' '.join(moves)\n",
    "\n",
    "# Función auxiliar para agrupar por ELO según los grupos pedidos\n",
    "def assign_to_elo_group(white_elo, black_elo):\n",
    "    # Si alguno de los ELO es None, no se puede asignar grupo\n",
    "    if white_elo is None or black_elo is None:\n",
    "        return None\n",
    "    diff = abs(white_elo - black_elo)\n",
    "    # Grupos de ELO: 1200-1400, 1400-1600, 1600-1800 (diferencia < 100)\n",
    "    if 1200 <= white_elo < 1400 and 1200 <= black_elo < 1400 and diff < 100:\n",
    "        return '1200-1400'\n",
    "    if 1400 <= white_elo < 1600 and 1400 <= black_elo < 1600 and diff < 100:\n",
    "        return '1400-1600'\n",
    "    if 1600 <= white_elo < 1800 and 1600 <= black_elo < 1800 and diff < 100:\n",
    "        return '1600-1800'\n",
    "    return 'mezcla'\n",
    "\n",
    "def analyze_openings(pgn_files, games_per_file=100, output_dir='../data/processed', base_name=None):\n",
    "    \"\"\"\n",
    "    Procesa archivos PGN, filtra partidas Blitz y guarda CSVs por grupo ELO y archivo.\n",
    "    El nombre del archivo de salida incluye el base_name (ej: chess_data_{base_name}_{elo_group}.csv)\n",
    "    \"\"\"\n",
    "\n",
    "    grupos_validos = ['1200-1400', '1400-1600', '1600-1800']\n",
    "    os.makedirs(output_dir, exist_ok=True)\n",
    "\n",
    "    for pgn_file in pgn_files:\n",
    "        print(f'Procesando {pgn_file}')\n",
    "        if base_name is not None:\n",
    "            file_tag = base_name\n",
    "        else:\n",
    "            base = os.path.basename(pgn_file)\n",
    "            match = re.search(r'(\\d{4}-\\d{2})', base)\n",
    "            file_tag = match.group(1) if match else base.replace('.pgn', '')\n",
    "\n",
    "        records = []\n",
    "        with open(pgn_file, encoding='utf-8') as pgn:\n",
    "            for _ in tqdm(range(games_per_file), desc=os.path.basename(pgn_file)):\n",
    "                game = chess.pgn.read_game(pgn)\n",
    "                if not game:\n",
    "                    break\n",
    "                try:\n",
    "                    m = Match(game)\n",
    "                    if m.tipo_de_partida == 'Blitz':\n",
    "                        df = m.get_dataframe(file_tag=file_tag)\n",
    "                        records.append(df)\n",
    "                except Exception as e:\n",
    "                    print(f'Error procesando partida: {e}')\n",
    "                    continue\n",
    "\n",
    "        if not records:\n",
    "            print(f\"No se encontraron partidas válidas en {pgn_file}.\")\n",
    "            continue\n",
    "\n",
    "\n",
    "        all_df = pd.concat(records, ignore_index=True)\n",
    "\n",
    "        # Filtrar grupos válidos (sin mezcla ni None)\n",
    "        all_df = all_df[all_df['elo_group'].isin(grupos_validos)]\n",
    "\n",
    "        # Guardar un CSV por cada grupo de ELO\n",
    "        for elo_grp, group_df in all_df.groupby('elo_group'):\n",
    "            fname = f'chess_data_{file_tag}_{elo_grp}.csv'\n",
    "            path = os.path.join(output_dir, fname)\n",
    "            group_df.to_csv(path, index=False)\n",
    "            print(f'Se guardó {path} con {len(group_df)} partidas')\n",
    "\n"
   ]
  },
  {
   "cell_type": "code",
   "execution_count": null,
   "metadata": {},
   "outputs": [
    {
     "name": "stdout",
     "output_type": "stream",
     "text": [
      "Procesando archivo: ../data/raw/lichess_db_standard_rated_2018-01.pgn\n",
      "Procesando ../data/raw/lichess_db_standard_rated_2018-01.pgn\n"
     ]
    },
    {
     "name": "stderr",
     "output_type": "stream",
     "text": [
      "lichess_db_standard_rated_2018-01.pgn: 100%|██████████| 5000000/5000000 [3:35:54<00:00, 385.96it/s]  \n"
     ]
    },
    {
     "name": "stdout",
     "output_type": "stream",
     "text": [
      "Se guardó ../data/processed\\chess_data_2018-01_1200-1400.csv con 110753 partidas\n",
      "Se guardó ../data/processed\\chess_data_2018-01_1400-1600.csv con 154930 partidas\n",
      "Se guardó ../data/processed\\chess_data_2018-01_1600-1800.csv con 140706 partidas\n",
      "Procesando archivo: ../data/raw/lichess_db_standard_rated_2018-02.pgn\n",
      "Procesando ../data/raw/lichess_db_standard_rated_2018-02.pgn\n"
     ]
    },
    {
     "name": "stderr",
     "output_type": "stream",
     "text": [
      "lichess_db_standard_rated_2018-02.pgn: 100%|██████████| 5000000/5000000 [3:33:51<00:00, 389.65it/s]  \n"
     ]
    },
    {
     "name": "stdout",
     "output_type": "stream",
     "text": [
      "Se guardó ../data/processed\\chess_data_2018-02_1200-1400.csv con 117641 partidas\n",
      "Se guardó ../data/processed\\chess_data_2018-02_1400-1600.csv con 157109 partidas\n",
      "Se guardó ../data/processed\\chess_data_2018-02_1600-1800.csv con 135814 partidas\n",
      "Procesando archivo: ../data/raw/lichess_db_standard_rated_2018-03.pgn\n",
      "Procesando ../data/raw/lichess_db_standard_rated_2018-03.pgn\n"
     ]
    },
    {
     "name": "stderr",
     "output_type": "stream",
     "text": [
      "lichess_db_standard_rated_2018-03.pgn: 100%|██████████| 5000000/5000000 [3:36:28<00:00, 384.97it/s]  \n"
     ]
    },
    {
     "name": "stdout",
     "output_type": "stream",
     "text": [
      "Se guardó ../data/processed\\chess_data_2018-03_1200-1400.csv con 117345 partidas\n",
      "Se guardó ../data/processed\\chess_data_2018-03_1400-1600.csv con 156871 partidas\n",
      "Se guardó ../data/processed\\chess_data_2018-03_1600-1800.csv con 137873 partidas\n",
      "Concatenado y guardado ../data/processed\\chess_data_1200-1400_full.csv (345739 partidas)\n",
      "Concatenado y guardado ../data/processed\\chess_data_1400-1600_full.csv (468910 partidas)\n",
      "Concatenado y guardado ../data/processed\\chess_data_1600-1800_full.csv (414393 partidas)\n"
     ]
    }
   ],
   "source": [
    "# Ejecución principal\n",
    "if __name__ == \"__main__\":\n",
    "\n",
    "    # Nombres de archivos PGN a procesar (especificar explícitamente)\n",
    "    pgn_files = [\n",
    "        \"../data/raw/lichess_db_standard_rated_2018-01.pgn\",\n",
    "        \"../data/raw/lichess_db_standard_rated_2018-02.pgn\",\n",
    "        \"../data/raw/lichess_db_standard_rated_2018-03.pgn\"\n",
    "    ]\n",
    "    output_dir = \"../data/processed\"\n",
    "\n",
    "    # Procesar y guardar los 3 grupos por ELO para cada archivo PGN\n",
    "    for pgn_file in pgn_files:\n",
    "        print(f\"Procesando archivo: {pgn_file}\")\n",
    "        # Extraer la fecha (YYYY-MM) del nombre del archivo\n",
    "        base_match = re.search(r'(\\d{4}-\\d{2})', os.path.basename(pgn_file))\n",
    "        base = base_match.group(1) if base_match else os.path.splitext(os.path.basename(pgn_file))[0]\n",
    "        # Procesar el archivo y guardar los 3 grupos por ELO\n",
    "        analyze_openings([pgn_file], games_per_file=5000000, output_dir=output_dir, base_name=base)\n",
    "\n",
    "    # Concatenar archivos por grupo de ELO\n",
    "    grupos_validos = ['1200-1400', '1400-1600', '1600-1800']\n",
    "    archivos_por_grupo = {g: [] for g in grupos_validos}\n",
    "\n",
    "    # Buscar los archivos generados para cada grupo y cada pgn\n",
    "    for g in grupos_validos:\n",
    "        # Los archivos se guardan como chess_data_{base}_{elo_group}.csv\n",
    "        pattern = os.path.join(output_dir, f\"chess_data_*_{g}.csv\")\n",
    "        archivos_por_grupo[g] = sorted(glob.glob(pattern))\n",
    "\n",
    "    # Concatenar y guardar los archivos por grupo de ELO\n",
    "    for g, files in archivos_por_grupo.items():\n",
    "        if not files:\n",
    "            print(f\"No se encontraron archivos para el grupo {g}\")\n",
    "            continue\n",
    "        dfs = [pd.read_csv(f) for f in files]\n",
    "        df_concat = pd.concat(dfs, ignore_index=True)\n",
    "        out_path = os.path.join(output_dir, f\"chess_data_{g}_full.csv\")\n",
    "        df_concat.to_csv(out_path, index=False)\n",
    "        print(f\"Concatenado y guardado {out_path} ({len(df_concat)} partidas)\")\n"
   ]
  }
 ],
 "metadata": {
  "kernelspec": {
   "display_name": "Python 3",
   "language": "python",
   "name": "python3"
  },
  "language_info": {
   "codemirror_mode": {
    "name": "ipython",
    "version": 3
   },
   "file_extension": ".py",
   "mimetype": "text/x-python",
   "name": "python",
   "nbconvert_exporter": "python",
   "pygments_lexer": "ipython3",
   "version": "3.12.5"
  }
 },
 "nbformat": 4,
 "nbformat_minor": 2
}
